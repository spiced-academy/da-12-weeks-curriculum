{
 "cells": [
  {
   "cell_type": "markdown",
   "id": "b3a59a7f",
   "metadata": {},
   "source": [
    "#### Prepare the data"
   ]
  },
  {
   "cell_type": "code",
   "execution_count": 1,
   "id": "af7d7917",
   "metadata": {},
   "outputs": [],
   "source": [
    "# import needed libraries\n",
    "import numpy as np\n",
    "import pandas as pd\n",
    "from sklearn.preprocessing import StandardScaler\n",
    "from sklearn.cluster import KMeans\n",
    "import matplotlib.pyplot as plt"
   ]
  },
  {
   "cell_type": "code",
   "execution_count": 2,
   "id": "3283b228",
   "metadata": {},
   "outputs": [],
   "source": [
    "# read the bike data\n"
   ]
  },
  {
   "cell_type": "markdown",
   "id": "0044cc45",
   "metadata": {},
   "source": [
    "#### Check the number of weather types"
   ]
  },
  {
   "cell_type": "code",
   "execution_count": 4,
   "id": "efd743c0",
   "metadata": {},
   "outputs": [],
   "source": [
    "# Print out the unique values in the weather column\n"
   ]
  },
  {
   "cell_type": "markdown",
   "id": "fb83ef28",
   "metadata": {},
   "source": [
    "#### Create a dataframe with weather related data only ('temp', 'atemp', 'humidity', 'windspeed')"
   ]
  },
  {
   "cell_type": "code",
   "execution_count": 5,
   "id": "5ba7aa9f",
   "metadata": {},
   "outputs": [],
   "source": [
    "# Create a subset of the dataframe with only given columns\n"
   ]
  },
  {
   "cell_type": "markdown",
   "id": "b94ba853",
   "metadata": {},
   "source": [
    "#### Check the data distribution and standardize it if needed"
   ]
  },
  {
   "cell_type": "code",
   "execution_count": 6,
   "id": "db4d77e7",
   "metadata": {},
   "outputs": [],
   "source": [
    "# Run describe method on the new dataframe that was just created\n"
   ]
  },
  {
   "cell_type": "code",
   "execution_count": 7,
   "id": "07ebdd23",
   "metadata": {},
   "outputs": [],
   "source": [
    "# Standardize the data due to the difference in magnitude \n"
   ]
  },
  {
   "cell_type": "code",
   "execution_count": 8,
   "id": "58f76534",
   "metadata": {},
   "outputs": [],
   "source": [
    "# Transform scaled data into a dataframe\n"
   ]
  },
  {
   "cell_type": "markdown",
   "id": "2ce580ac",
   "metadata": {},
   "source": [
    "#### Use the elbow method to determine the number of clusters"
   ]
  },
  {
   "cell_type": "code",
   "execution_count": 9,
   "id": "aa879c5a",
   "metadata": {},
   "outputs": [],
   "source": [
    "# Use the code from the encounter and adapt it to implement the elbow method\n"
   ]
  },
  {
   "cell_type": "markdown",
   "id": "04e68b30",
   "metadata": {},
   "source": [
    "You should see a slight elbow for k = 4 which fits our knowledge of the dataset."
   ]
  },
  {
   "cell_type": "markdown",
   "id": "ecfd5549",
   "metadata": {},
   "source": [
    "### Repeat k-means clustering with k = 4. Visualize the results and compare them with the weather from the `weather` column. Are the results aligned or rather different?"
   ]
  },
  {
   "cell_type": "code",
   "execution_count": 10,
   "id": "8f79d243",
   "metadata": {},
   "outputs": [],
   "source": [
    "# Predict the labels and visualize the data. Adapt the code from the encounter.\n",
    "# Note: in the encounter notebook we only visualize the data in a 2 dimensional space which means we are using only two columns (you can select column 1 - 'atemp' and column 2 - 'humidity')\n"
   ]
  },
  {
   "cell_type": "code",
   "execution_count": 11,
   "id": "957627a7",
   "metadata": {},
   "outputs": [],
   "source": [
    "# Visualize the weather clusters that are already in the data.\n"
   ]
  },
  {
   "cell_type": "markdown",
   "id": "fac21d68",
   "metadata": {},
   "source": [
    "#### Conclusions:\n",
    "\n",
    "Write down your thoughts here."
   ]
  },
  {
   "cell_type": "code",
   "execution_count": null,
   "id": "7adfc34b",
   "metadata": {},
   "outputs": [],
   "source": []
  }
 ],
 "metadata": {
  "kernelspec": {
   "display_name": "Python 3 (ipykernel)",
   "language": "python",
   "name": "python3"
  },
  "language_info": {
   "codemirror_mode": {
    "name": "ipython",
    "version": 3
   },
   "file_extension": ".py",
   "mimetype": "text/x-python",
   "name": "python",
   "nbconvert_exporter": "python",
   "pygments_lexer": "ipython3",
   "version": "3.9.12"
  }
 },
 "nbformat": 4,
 "nbformat_minor": 5
}
